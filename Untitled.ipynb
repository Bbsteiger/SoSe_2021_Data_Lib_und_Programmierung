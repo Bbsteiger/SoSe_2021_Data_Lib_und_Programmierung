{
 "cells": [
  {
   "cell_type": "markdown",
   "metadata": {},
   "source": [
    "# Funktionen"
   ]
  },
  {
   "cell_type": "markdown",
   "metadata": {},
   "source": [
    "DRY - don't Repeat Yourself\n",
    "\n",
    "\n"
   ]
  },
  {
   "cell_type": "code",
   "execution_count": 2,
   "metadata": {},
   "outputs": [
    {
     "name": "stdout",
     "output_type": "stream",
     "text": [
      "Blub\n"
     ]
    }
   ],
   "source": [
    "# Genutzte Funktionen\n",
    "print(\"Blub\")"
   ]
  },
  {
   "cell_type": "code",
   "execution_count": 3,
   "metadata": {},
   "outputs": [
    {
     "data": {
      "text/plain": [
       "str"
      ]
     },
     "execution_count": 3,
     "metadata": {},
     "output_type": "execute_result"
    }
   ],
   "source": [
    "type(\"Blub\")"
   ]
  },
  {
   "cell_type": "code",
   "execution_count": 4,
   "metadata": {},
   "outputs": [],
   "source": [
    "my_string = \"Blub\""
   ]
  },
  {
   "cell_type": "code",
   "execution_count": 6,
   "metadata": {},
   "outputs": [
    {
     "data": {
      "text/plain": [
       "'BLUB'"
      ]
     },
     "execution_count": 6,
     "metadata": {},
     "output_type": "execute_result"
    }
   ],
   "source": [
    "# Methonden (spezielle Funktionen, die an Objekte)\n",
    "my_string.upper()"
   ]
  },
  {
   "cell_type": "markdown",
   "metadata": {},
   "source": [
    "Requirement for an ISBN\n",
    "        • AN ISBN 17 Zeichen\n",
    "        • AN ISBN 4 dashes\n",
    "        • AN ISBN"
   ]
  },
  {
   "cell_type": "code",
   "execution_count": 7,
   "metadata": {},
   "outputs": [],
   "source": [
    "potential_isbns = [\"978-3-86226-468-5\", # proper ISBN\n",
    "                   \"AB-423-2343\", # not a proper ISBN\n",
    "                   \"978-3-XXXXX-468-5\"] # not a proper ISBN but pretty close"
   ]
  },
  {
   "cell_type": "code",
   "execution_count": 8,
   "metadata": {},
   "outputs": [],
   "source": [
    "isbn_1 = potential_isbns[0]"
   ]
  },
  {
   "cell_type": "code",
   "execution_count": 9,
   "metadata": {},
   "outputs": [
    {
     "data": {
      "text/plain": [
       "'978-3-86226-468-5'"
      ]
     },
     "execution_count": 9,
     "metadata": {},
     "output_type": "execute_result"
    }
   ],
   "source": [
    "isbn_1"
   ]
  },
  {
   "cell_type": "code",
   "execution_count": 10,
   "metadata": {},
   "outputs": [],
   "source": [
    "def is_isbn():\n",
    "    print(\"testing if correct ISBN\")"
   ]
  },
  {
   "cell_type": "code",
   "execution_count": 15,
   "metadata": {},
   "outputs": [
    {
     "name": "stdout",
     "output_type": "stream",
     "text": [
      "testing if correct ISBN\n"
     ]
    }
   ],
   "source": [
    "# Define the function\n",
    "def is_isbn():\n",
    "    print(\"testing if correct ISBN\")\n",
    "    \n",
    "# Call the function\n",
    "is_isbn()"
   ]
  },
  {
   "cell_type": "code",
   "execution_count": 16,
   "metadata": {},
   "outputs": [
    {
     "data": {
      "text/plain": [
       "18"
      ]
     },
     "execution_count": 16,
     "metadata": {},
     "output_type": "execute_result"
    }
   ],
   "source": [
    "len(\"Ein langer String!\")"
   ]
  },
  {
   "cell_type": "code",
   "execution_count": 17,
   "metadata": {},
   "outputs": [
    {
     "name": "stdout",
     "output_type": "stream",
     "text": [
      "Is a ISBN\n"
     ]
    }
   ],
   "source": [
    "def is_isbn():\n",
    "    isbn = \"978-3-86226-468-5\"\n",
    "    if len(isbn) == 17:\n",
    "        print(\"Is a ISBN\")\n",
    "    else:\n",
    "        print(\"Is not a ISBN\")\n",
    "\n",
    "is_isbn()"
   ]
  },
  {
   "cell_type": "code",
   "execution_count": 31,
   "metadata": {},
   "outputs": [
    {
     "data": {
      "text/plain": [
       "True"
      ]
     },
     "execution_count": 31,
     "metadata": {},
     "output_type": "execute_result"
    }
   ],
   "source": [
    "10 == 10"
   ]
  },
  {
   "cell_type": "code",
   "execution_count": 19,
   "metadata": {},
   "outputs": [
    {
     "data": {
      "text/plain": [
       "False"
      ]
     },
     "execution_count": 19,
     "metadata": {},
     "output_type": "execute_result"
    }
   ],
   "source": [
    "11 >= 23"
   ]
  },
  {
   "cell_type": "code",
   "execution_count": 23,
   "metadata": {},
   "outputs": [
    {
     "name": "stdout",
     "output_type": "stream",
     "text": [
      "Is a ISBN\n"
     ]
    }
   ],
   "source": [
    "def is_isbn():\n",
    "    isbn = \"978-3-86226-468-5\"\n",
    "    if len(isbn) != 17:\n",
    "        print(\"Is not a ISBN\")\n",
    "    else:\n",
    "        print(\"Is a ISBN\")\n",
    "\n",
    "is_isbn()"
   ]
  },
  {
   "cell_type": "code",
   "execution_count": 25,
   "metadata": {},
   "outputs": [
    {
     "name": "stdout",
     "output_type": "stream",
     "text": [
      "The book is called Biology 101.\n"
     ]
    }
   ],
   "source": [
    "# Detour - strings & quotes\n",
    "print(\"The book is called Biology 101.\")"
   ]
  },
  {
   "cell_type": "code",
   "execution_count": 26,
   "metadata": {},
   "outputs": [
    {
     "name": "stdout",
     "output_type": "stream",
     "text": [
      "The book is called Biology 101.\n"
     ]
    }
   ],
   "source": [
    "print(\"The book is called Biology 101.\")"
   ]
  },
  {
   "cell_type": "code",
   "execution_count": 28,
   "metadata": {
    "scrolled": true
   },
   "outputs": [
    {
     "ename": "TypeError",
     "evalue": "is_isbn() missing 1 required positional argument: 'isbn'",
     "output_type": "error",
     "traceback": [
      "\u001b[1;31m---------------------------------------------------------------------------\u001b[0m",
      "\u001b[1;31mTypeError\u001b[0m                                 Traceback (most recent call last)",
      "\u001b[1;32m<ipython-input-28-001a760a7fdb>\u001b[0m in \u001b[0;36m<module>\u001b[1;34m\u001b[0m\n\u001b[0;32m      5\u001b[0m         \u001b[0mprint\u001b[0m\u001b[1;33m(\u001b[0m\u001b[1;34m\"Is a ISBN\"\u001b[0m\u001b[1;33m)\u001b[0m\u001b[1;33m\u001b[0m\u001b[1;33m\u001b[0m\u001b[0m\n\u001b[0;32m      6\u001b[0m \u001b[1;33m\u001b[0m\u001b[0m\n\u001b[1;32m----> 7\u001b[1;33m \u001b[0mis_isbn\u001b[0m\u001b[1;33m(\u001b[0m\u001b[1;33m)\u001b[0m\u001b[1;33m\u001b[0m\u001b[1;33m\u001b[0m\u001b[0m\n\u001b[0m",
      "\u001b[1;31mTypeError\u001b[0m: is_isbn() missing 1 required positional argument: 'isbn'"
     ]
    }
   ],
   "source": [
    "def is_isbn(isbn):\n",
    "    if len(isbn) != 17:\n",
    "        print(\"Is not a ISBN\")\n",
    "    else:\n",
    "        print(\"Is a ISBN\")\n",
    "\n",
    "is_isbn()"
   ]
  },
  {
   "cell_type": "code",
   "execution_count": 29,
   "metadata": {},
   "outputs": [
    {
     "name": "stdout",
     "output_type": "stream",
     "text": [
      "Is a ISBN\n"
     ]
    }
   ],
   "source": [
    "def is_isbn(isbn):\n",
    "    if len(isbn) != 17:\n",
    "        print(\"Is not a ISBN\")\n",
    "    else:\n",
    "        print(\"Is a ISBN\")\n",
    "\n",
    "is_isbn(\"978-3-86226-468-5\")"
   ]
  },
  {
   "cell_type": "code",
   "execution_count": 30,
   "metadata": {},
   "outputs": [
    {
     "name": "stdout",
     "output_type": "stream",
     "text": [
      "Is a ISBN\n",
      "Is not a ISBN\n"
     ]
    }
   ],
   "source": [
    "is_isbn(\"978-3-86226-468-5\")\n",
    "is_isbn(\"Blub\")"
   ]
  },
  {
   "cell_type": "code",
   "execution_count": 36,
   "metadata": {},
   "outputs": [
    {
     "data": {
      "text/plain": [
       "True"
      ]
     },
     "execution_count": 36,
     "metadata": {},
     "output_type": "execute_result"
    }
   ],
   "source": [
    "# Using \"return\" to return a value\n",
    "def is_isbn(isbn):\n",
    "    if len(isbn) != 17:\n",
    "        return False\n",
    "    else:\n",
    "        return True\n",
    "\n",
    "is_isbn(\"978-3-86226-468-5\")"
   ]
  },
  {
   "cell_type": "code",
   "execution_count": 33,
   "metadata": {},
   "outputs": [
    {
     "name": "stdout",
     "output_type": "stream",
     "text": [
      "This is a proper ISBN\n"
     ]
    }
   ],
   "source": [
    "result_of_isbn_check = is_isbn(\"978-3-86226-468-5\")\n",
    "if result_of_isbn_check:\n",
    "    print(\"This is a proper ISBN\")"
   ]
  },
  {
   "cell_type": "code",
   "execution_count": 34,
   "metadata": {
    "scrolled": true
   },
   "outputs": [
    {
     "data": {
      "text/plain": [
       "False"
      ]
     },
     "execution_count": 34,
     "metadata": {},
     "output_type": "execute_result"
    }
   ],
   "source": [
    "18 != 18"
   ]
  },
  {
   "cell_type": "code",
   "execution_count": 35,
   "metadata": {},
   "outputs": [
    {
     "data": {
      "text/plain": [
       "True"
      ]
     },
     "execution_count": 35,
     "metadata": {},
     "output_type": "execute_result"
    }
   ],
   "source": [
    "18 != 19"
   ]
  },
  {
   "cell_type": "code",
   "execution_count": 37,
   "metadata": {},
   "outputs": [
    {
     "data": {
      "text/plain": [
       "True"
      ]
     },
     "execution_count": 37,
     "metadata": {},
     "output_type": "execute_result"
    }
   ],
   "source": [
    "18 == 18"
   ]
  },
  {
   "cell_type": "code",
   "execution_count": 39,
   "metadata": {},
   "outputs": [
    {
     "name": "stdout",
     "output_type": "stream",
     "text": [
      "This is a proper ISBN\n"
     ]
    }
   ],
   "source": [
    "if is_isbn(\"978-3-86226-468-5\"):\n",
    "    print(\"This is a proper ISBN\")"
   ]
  },
  {
   "cell_type": "code",
   "execution_count": 41,
   "metadata": {},
   "outputs": [],
   "source": [
    "if is_isbn(\"Blub\"):\n",
    "    print(\"This is a proper ISBN\")"
   ]
  },
  {
   "cell_type": "code",
   "execution_count": 57,
   "metadata": {},
   "outputs": [
    {
     "data": {
      "text/plain": [
       "True"
      ]
     },
     "execution_count": 57,
     "metadata": {},
     "output_type": "execute_result"
    }
   ],
   "source": [
    "def is_isbn(isbn):\n",
    "    if isbn.count(\"-\") != 4:\n",
    "        return False\n",
    "   \n",
    "    if len(isbn) != 17:\n",
    "        return False\n",
    "    return True\n",
    "\n",
    "is_isbn(\"978-3-86226-468-5\")"
   ]
  },
  {
   "cell_type": "code",
   "execution_count": null,
   "metadata": {},
   "outputs": [],
   "source": [
    "# strings can be trated like lists\n",
    "for char in (\"978-3-86226-468-5\")"
   ]
  },
  {
   "cell_type": "code",
   "execution_count": 58,
   "metadata": {},
   "outputs": [
    {
     "data": {
      "text/plain": [
       "True"
      ]
     },
     "execution_count": 58,
     "metadata": {},
     "output_type": "execute_result"
    }
   ],
   "source": [
    "# site note - check if charakter is a number\n",
    "\"4\".isdigit()"
   ]
  },
  {
   "cell_type": "code",
   "execution_count": 59,
   "metadata": {},
   "outputs": [
    {
     "data": {
      "text/plain": [
       "False"
      ]
     },
     "execution_count": 59,
     "metadata": {},
     "output_type": "execute_result"
    }
   ],
   "source": [
    "\"X\".isdigit()"
   ]
  },
  {
   "cell_type": "code",
   "execution_count": 60,
   "metadata": {
    "scrolled": true
   },
   "outputs": [
    {
     "data": {
      "text/plain": [
       "True"
      ]
     },
     "execution_count": 60,
     "metadata": {},
     "output_type": "execute_result"
    }
   ],
   "source": [
    "# Site note \"not\"\n",
    "10 == 10"
   ]
  },
  {
   "cell_type": "code",
   "execution_count": 61,
   "metadata": {},
   "outputs": [
    {
     "data": {
      "text/plain": [
       "False"
      ]
     },
     "execution_count": 61,
     "metadata": {},
     "output_type": "execute_result"
    }
   ],
   "source": [
    "not 10 == 10"
   ]
  },
  {
   "cell_type": "code",
   "execution_count": 62,
   "metadata": {},
   "outputs": [
    {
     "data": {
      "text/plain": [
       "True"
      ]
     },
     "execution_count": 62,
     "metadata": {},
     "output_type": "execute_result"
    }
   ],
   "source": [
    "def is_isbn(isbn):\n",
    "    if isbn.count(\"-\") != 4:\n",
    "        return False\n",
    "   \n",
    "    if len(isbn) != 17:\n",
    "        return False\n",
    "    for char in isbn:\n",
    "        if char == \"-\":\n",
    "            continue\n",
    "        if not char.isdigit():\n",
    "            return False\n",
    "    return True\n",
    "\n",
    "is_isbn(\"978-3-86226-468-5\")"
   ]
  },
  {
   "cell_type": "code",
   "execution_count": 63,
   "metadata": {},
   "outputs": [
    {
     "data": {
      "text/plain": [
       "False"
      ]
     },
     "execution_count": 63,
     "metadata": {},
     "output_type": "execute_result"
    }
   ],
   "source": [
    "def is_isbn(isbn):\n",
    "    if isbn.count(\"-\") != 4:\n",
    "        return False\n",
    "   \n",
    "    if len(isbn) != 17:\n",
    "        return False\n",
    "    for char in isbn:\n",
    "        if char == \"-\":\n",
    "            continue\n",
    "        if not char.isdigit():\n",
    "            return False\n",
    "    return True\n",
    "\n",
    "is_isbn(\"978-3-86226-468-X\")"
   ]
  },
  {
   "cell_type": "code",
   "execution_count": 64,
   "metadata": {},
   "outputs": [
    {
     "name": "stdout",
     "output_type": "stream",
     "text": [
      "978-3-86226-468-5 True\n",
      "AB-423-2343 False\n",
      "978-3-XXXXX-468-5 False\n"
     ]
    }
   ],
   "source": [
    "potential_isbns = [\"978-3-86226-468-5\", # proper ISBN\n",
    "                   \"AB-423-2343\", # not a proper ISBN\n",
    "                   \"978-3-XXXXX-468-5\"] # not a proper ISBN but pretty close\n",
    "\n",
    "for isbn in potential_isbns:\n",
    "    print (isbn, is_isbn(isbn))"
   ]
  },
  {
   "cell_type": "code",
   "execution_count": 65,
   "metadata": {},
   "outputs": [],
   "source": [
    "# Funktionen sind dazu da den Code nach nutzbar zu machen - Struktur"
   ]
  },
  {
   "cell_type": "code",
   "execution_count": null,
   "metadata": {},
   "outputs": [],
   "source": []
  }
 ],
 "metadata": {
  "kernelspec": {
   "display_name": "Python 3",
   "language": "python",
   "name": "python3"
  },
  "language_info": {
   "codemirror_mode": {
    "name": "ipython",
    "version": 3
   },
   "file_extension": ".py",
   "mimetype": "text/x-python",
   "name": "python",
   "nbconvert_exporter": "python",
   "pygments_lexer": "ipython3",
   "version": "3.8.5"
  }
 },
 "nbformat": 4,
 "nbformat_minor": 4
}
