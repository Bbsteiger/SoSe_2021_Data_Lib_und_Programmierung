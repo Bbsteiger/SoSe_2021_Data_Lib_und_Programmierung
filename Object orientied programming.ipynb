{
 "cells": [
  {
   "cell_type": "code",
   "execution_count": 1,
   "metadata": {},
   "outputs": [],
   "source": [
    "class Book():\n",
    "    pass\n",
    "\n",
    "book_1 = Book()"
   ]
  },
  {
   "cell_type": "code",
   "execution_count": 2,
   "metadata": {},
   "outputs": [
    {
     "data": {
      "text/plain": [
       "__main__.Book"
      ]
     },
     "execution_count": 2,
     "metadata": {},
     "output_type": "execute_result"
    }
   ],
   "source": [
    "type(book_1)"
   ]
  },
  {
   "cell_type": "code",
   "execution_count": 4,
   "metadata": {},
   "outputs": [
    {
     "name": "stdout",
     "output_type": "stream",
     "text": [
      "New book created\n"
     ]
    }
   ],
   "source": [
    "# the function/method __init__ is called when a new instance of the class book is generated\n",
    "#self represents the oject itself\n",
    "\n",
    "class Book():\n",
    "    \n",
    "    def __init__(self):\n",
    "        print(\"New book created\")\n",
    "        \n",
    "book_1 = Book()"
   ]
  },
  {
   "cell_type": "code",
   "execution_count": 7,
   "metadata": {},
   "outputs": [
    {
     "name": "stdout",
     "output_type": "stream",
     "text": [
      "Microbiology 101\n"
     ]
    }
   ],
   "source": [
    "class Book():\n",
    "    \n",
    "    def __init__(self, title):\n",
    "        # settina an attribute\n",
    "        self.title = title\n",
    "        \n",
    "book_1 = Book(\"Microbiology 101\")\n",
    "print(book_1.title)"
   ]
  },
  {
   "cell_type": "code",
   "execution_count": 9,
   "metadata": {},
   "outputs": [
    {
     "name": "stdout",
     "output_type": "stream",
     "text": [
      "Microbiology 101\n"
     ]
    }
   ],
   "source": [
    "class Book():\n",
    "    \n",
    "    def __init__(self, title):\n",
    "        # settina an attribute\n",
    "        self.title = title\n",
    "        self.order_status = \"available\"\n",
    "        \n",
    "    def tell_title(self):\n",
    "        print(\"Book title: \" + self.title)\n",
    "        \n",
    "book_1 = Book(\"Microbiology 101\")\n",
    "print(book_1.title)"
   ]
  },
  {
   "cell_type": "code",
   "execution_count": 20,
   "metadata": {},
   "outputs": [
    {
     "name": "stdout",
     "output_type": "stream",
     "text": [
      "Book title: Microbiology 101\n",
      "Order status: available\n",
      "Order status: ordered\n"
     ]
    }
   ],
   "source": [
    "class Book():\n",
    "    \n",
    "    def __init__(self, title):\n",
    "        # setting an attribute\n",
    "        self.title = title\n",
    "        self.order_status = \"available\"\n",
    "        \n",
    "    def tell_title(self):\n",
    "        print(\"Book title: \" + self.title)\n",
    "        \n",
    "    def tell_order_status(self):\n",
    "        print(\"Order status: \" + self.order_status)\n",
    "        \n",
    "    def order(self):\n",
    "        self.order_status = \"ordered\"\n",
    "        \n",
    "book_1 = Book(\"Microbiology 101\")\n",
    "book_1.tell_title()\n",
    "book_1.tell_order_status()\n",
    "book_1.order()\n",
    "book_1.tell_order_status()"
   ]
  },
  {
   "cell_type": "code",
   "execution_count": 14,
   "metadata": {},
   "outputs": [
    {
     "name": "stdout",
     "output_type": "stream",
     "text": [
      "Book title: Microbiology 101\n",
      "Order status: available\n",
      "Order status: ordered\n",
      "Order status: available\n"
     ]
    }
   ],
   "source": [
    "class Book():\n",
    "    \n",
    "    def __init__(self, title):\n",
    "        # setting an attribute\n",
    "        self.title = title\n",
    "        self.order_status = \"available\"\n",
    "        \n",
    "    def tell_title(self):\n",
    "        print(\"Book title: \" + self.title)\n",
    "        \n",
    "    def tell_order_status(self):\n",
    "        print(\"Order status: \" + self.order_status)\n",
    "        \n",
    "    def order(self):\n",
    "        self.order_status = \"ordered\"\n",
    "        \n",
    "    def return_item(self):\n",
    "         self.order_status = \"available\"\n",
    "        \n",
    "book_1 = Book(\"Microbiology 101\")\n",
    "book_1.tell_title()\n",
    "book_1.tell_order_status()\n",
    "book_1.order()\n",
    "book_1.tell_order_status()\n",
    "book_1.return_item()\n",
    "book_1.tell_order_status()"
   ]
  },
  {
   "cell_type": "code",
   "execution_count": 22,
   "metadata": {},
   "outputs": [
    {
     "ename": "SyntaxError",
     "evalue": "invalid syntax (<ipython-input-22-177941b2bb9b>, line 15)",
     "output_type": "error",
     "traceback": [
      "\u001b[1;36m  File \u001b[1;32m\"<ipython-input-22-177941b2bb9b>\"\u001b[1;36m, line \u001b[1;32m15\u001b[0m\n\u001b[1;33m    self.order_status == \"ordered\":\u001b[0m\n\u001b[1;37m                                   ^\u001b[0m\n\u001b[1;31mSyntaxError\u001b[0m\u001b[1;31m:\u001b[0m invalid syntax\n"
     ]
    }
   ],
   "source": [
    "class Book():\n",
    "    \n",
    "    def __init__(self, title):\n",
    "        # setting an attribute\n",
    "        self.title = title\n",
    "        self.order_status = \"available\"\n",
    "        \n",
    "    def tell_title(self):\n",
    "        print(\"Book title: \" + self.title)\n",
    "        \n",
    "    def tell_order_status(self):\n",
    "        print(\"Order status: \" + self.order_status)\n",
    "        \n",
    "    def order(self):\n",
    "        self.order_status == \"ordered\":\n",
    "            print(\"Sorry the book \" self.title + is \"already booked\")\n",
    "            return\n",
    "        \n",
    "        self.order_status = \"ordered\"\n",
    "    def return_item(self):\n",
    "         self.order_status = \"available\"\n",
    "        \n",
    "book_1 = Book(\"Microbiology 101\")\n",
    "book_1.tell_title()\n",
    "book_1.tell_order_status()\n",
    "book_1.order()\n",
    "book_1.tell_order_status()\n",
    "book_1.return_item()\n",
    "book_1.tell_order_status()"
   ]
  },
  {
   "cell_type": "code",
   "execution_count": null,
   "metadata": {},
   "outputs": [],
   "source": []
  },
  {
   "cell_type": "code",
   "execution_count": null,
   "metadata": {},
   "outputs": [],
   "source": []
  }
 ],
 "metadata": {
  "kernelspec": {
   "display_name": "Python 3",
   "language": "python",
   "name": "python3"
  },
  "language_info": {
   "codemirror_mode": {
    "name": "ipython",
    "version": 3
   },
   "file_extension": ".py",
   "mimetype": "text/x-python",
   "name": "python",
   "nbconvert_exporter": "python",
   "pygments_lexer": "ipython3",
   "version": "3.8.5"
  }
 },
 "nbformat": 4,
 "nbformat_minor": 4
}
